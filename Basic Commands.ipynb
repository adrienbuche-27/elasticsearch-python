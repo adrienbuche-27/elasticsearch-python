{
 "cells": [
  {
   "cell_type": "code",
   "execution_count": 112,
   "metadata": {
    "ExecuteTime": {
     "end_time": "2020-09-20T17:10:02.648857Z",
     "start_time": "2020-09-20T17:10:02.641572Z"
    }
   },
   "outputs": [],
   "source": [
    "import requests\n",
    "from datetime import datetime\n",
    "from elasticsearch import Elasticsearch\n",
    "import nltk\n",
    "import json\n",
    "import pandas as pd\n",
    "from elasticsearch.exceptions import NotFoundError"
   ]
  },
  {
   "cell_type": "markdown",
   "metadata": {},
   "source": [
    "https://towardsdatascience.com/getting-started-with-elasticsearch-in-python-c3598e718380"
   ]
  },
  {
   "cell_type": "markdown",
   "metadata": {},
   "source": [
    "# Basic Operations"
   ]
  },
  {
   "cell_type": "markdown",
   "metadata": {},
   "source": [
    "Using the Elasticsearch package"
   ]
  },
  {
   "cell_type": "code",
   "execution_count": 4,
   "metadata": {
    "ExecuteTime": {
     "end_time": "2020-09-20T10:23:15.473629Z",
     "start_time": "2020-09-20T10:23:15.468101Z"
    }
   },
   "outputs": [],
   "source": [
    "def connect_to_elasticsearch():\n",
    "    _es = None\n",
    "    _es = Elasticsearch([{'host': 'localhost', 'port': 9200}])\n",
    "    if _es.ping():\n",
    "        print('Connection Established')\n",
    "    else:\n",
    "        print('Something went wrong with the connection!')\n",
    "    return _es"
   ]
  },
  {
   "cell_type": "markdown",
   "metadata": {},
   "source": [
    "## Sanity Checks"
   ]
  },
  {
   "cell_type": "code",
   "execution_count": 27,
   "metadata": {
    "ExecuteTime": {
     "end_time": "2020-09-20T15:47:45.834986Z",
     "start_time": "2020-09-20T15:47:45.771899Z"
    }
   },
   "outputs": [
    {
     "name": "stdout",
     "output_type": "stream",
     "text": [
      "Connection Established\n"
     ]
    }
   ],
   "source": [
    "# es = Elasticsearch([{'host': 'localhost', 'port': 9200}])\n",
    "es = connect_to_elasticsearch()"
   ]
  },
  {
   "cell_type": "code",
   "execution_count": 44,
   "metadata": {
    "ExecuteTime": {
     "end_time": "2020-09-20T15:57:21.907767Z",
     "start_time": "2020-09-20T15:57:21.894104Z"
    }
   },
   "outputs": [
    {
     "name": "stdout",
     "output_type": "stream",
     "text": [
      "['products']\n"
     ]
    }
   ],
   "source": [
    "# Get all indices within the ElasticSearch Instance.\n",
    "indices = es.indices.get_mapping().keys()\n",
    "real_index = []\n",
    "for ind in indices:\n",
    "    if not ind.startswith('.'):\n",
    "        real_index.append(ind)\n",
    "        \n",
    "print(real_index)"
   ]
  },
  {
   "cell_type": "code",
   "execution_count": 53,
   "metadata": {
    "ExecuteTime": {
     "end_time": "2020-09-20T16:39:35.722631Z",
     "start_time": "2020-09-20T16:39:35.711151Z"
    }
   },
   "outputs": [],
   "source": [
    "def get_index_mapping(index_name):\n",
    "    return es.indices.get_mapping()[index_name]\n",
    "\n",
    "mapping = get_index_mapping('products')\n",
    "# print(json.dumps(mapping, sort_keys=True,indent=4,))"
   ]
  },
  {
   "cell_type": "code",
   "execution_count": 58,
   "metadata": {
    "ExecuteTime": {
     "end_time": "2020-09-20T16:41:57.966139Z",
     "start_time": "2020-09-20T16:41:57.948131Z"
    }
   },
   "outputs": [
    {
     "data": {
      "text/html": [
       "<div>\n",
       "<style scoped>\n",
       "    .dataframe tbody tr th:only-of-type {\n",
       "        vertical-align: middle;\n",
       "    }\n",
       "\n",
       "    .dataframe tbody tr th {\n",
       "        vertical-align: top;\n",
       "    }\n",
       "\n",
       "    .dataframe thead th {\n",
       "        text-align: right;\n",
       "    }\n",
       "</style>\n",
       "<table border=\"1\" class=\"dataframe\">\n",
       "  <thead>\n",
       "    <tr style=\"text-align: right;\">\n",
       "      <th></th>\n",
       "      <th>type</th>\n",
       "      <th>fields</th>\n",
       "      <th>format</th>\n",
       "    </tr>\n",
       "  </thead>\n",
       "  <tbody>\n",
       "    <tr>\n",
       "      <th>category</th>\n",
       "      <td>text</td>\n",
       "      <td>{'keyword': {'type': 'keyword', 'ignore_above'...</td>\n",
       "      <td>NaN</td>\n",
       "    </tr>\n",
       "    <tr>\n",
       "      <th>created</th>\n",
       "      <td>date</td>\n",
       "      <td>NaN</td>\n",
       "      <td>yyyy/MM/dd HH:mm:ss||yyyy/MM/dd||epoch_millis</td>\n",
       "    </tr>\n",
       "    <tr>\n",
       "      <th>description</th>\n",
       "      <td>text</td>\n",
       "      <td>{'keyword': {'type': 'keyword', 'ignore_above'...</td>\n",
       "      <td>NaN</td>\n",
       "    </tr>\n",
       "    <tr>\n",
       "      <th>in_stock</th>\n",
       "      <td>long</td>\n",
       "      <td>NaN</td>\n",
       "      <td>NaN</td>\n",
       "    </tr>\n",
       "    <tr>\n",
       "      <th>is_active</th>\n",
       "      <td>boolean</td>\n",
       "      <td>NaN</td>\n",
       "      <td>NaN</td>\n",
       "    </tr>\n",
       "    <tr>\n",
       "      <th>name</th>\n",
       "      <td>text</td>\n",
       "      <td>{'keyword': {'type': 'keyword', 'ignore_above'...</td>\n",
       "      <td>NaN</td>\n",
       "    </tr>\n",
       "    <tr>\n",
       "      <th>price</th>\n",
       "      <td>long</td>\n",
       "      <td>NaN</td>\n",
       "      <td>NaN</td>\n",
       "    </tr>\n",
       "    <tr>\n",
       "      <th>sold</th>\n",
       "      <td>long</td>\n",
       "      <td>NaN</td>\n",
       "      <td>NaN</td>\n",
       "    </tr>\n",
       "    <tr>\n",
       "      <th>tags</th>\n",
       "      <td>text</td>\n",
       "      <td>{'keyword': {'type': 'keyword', 'ignore_above'...</td>\n",
       "      <td>NaN</td>\n",
       "    </tr>\n",
       "  </tbody>\n",
       "</table>\n",
       "</div>"
      ],
      "text/plain": [
       "                type                                             fields  \\\n",
       "category        text  {'keyword': {'type': 'keyword', 'ignore_above'...   \n",
       "created         date                                                NaN   \n",
       "description     text  {'keyword': {'type': 'keyword', 'ignore_above'...   \n",
       "in_stock        long                                                NaN   \n",
       "is_active    boolean                                                NaN   \n",
       "name            text  {'keyword': {'type': 'keyword', 'ignore_above'...   \n",
       "price           long                                                NaN   \n",
       "sold            long                                                NaN   \n",
       "tags            text  {'keyword': {'type': 'keyword', 'ignore_above'...   \n",
       "\n",
       "                                                    format  \n",
       "category                                               NaN  \n",
       "created      yyyy/MM/dd HH:mm:ss||yyyy/MM/dd||epoch_millis  \n",
       "description                                            NaN  \n",
       "in_stock                                               NaN  \n",
       "is_active                                              NaN  \n",
       "name                                                   NaN  \n",
       "price                                                  NaN  \n",
       "sold                                                   NaN  \n",
       "tags                                                   NaN  "
      ]
     },
     "execution_count": 58,
     "metadata": {},
     "output_type": "execute_result"
    }
   ],
   "source": [
    "mapping_df= pd.DataFrame.from_dict(mapping['mappings']['properties'], orient='index')"
   ]
  },
  {
   "cell_type": "markdown",
   "metadata": {},
   "source": [
    "## Creating Index"
   ]
  },
  {
   "cell_type": "markdown",
   "metadata": {},
   "source": [
    "Using the requests package"
   ]
  },
  {
   "cell_type": "code",
   "execution_count": 60,
   "metadata": {
    "ExecuteTime": {
     "end_time": "2020-09-20T16:53:32.708378Z",
     "start_time": "2020-09-20T16:53:32.703936Z"
    }
   },
   "outputs": [],
   "source": [
    "def create_index_1(index_name):\n",
    "    es_path = \"http://localhost:9200/\"\n",
    "    output = requests.put(es_path + index_name)\n",
    "    return output"
   ]
  },
  {
   "cell_type": "code",
   "execution_count": 71,
   "metadata": {
    "ExecuteTime": {
     "end_time": "2020-09-20T16:57:11.199566Z",
     "start_time": "2020-09-20T16:57:11.195677Z"
    }
   },
   "outputs": [],
   "source": [
    "def create_index_2(es_instance, index_name):\n",
    "    res = es_instance.indices.create(index=index_name)\n",
    "    return res"
   ]
  },
  {
   "cell_type": "code",
   "execution_count": 64,
   "metadata": {
    "ExecuteTime": {
     "end_time": "2020-09-20T16:53:57.223474Z",
     "start_time": "2020-09-20T16:53:56.899164Z"
    }
   },
   "outputs": [],
   "source": [
    "res = create_index_1(\"world_places\")"
   ]
  },
  {
   "cell_type": "code",
   "execution_count": 78,
   "metadata": {
    "ExecuteTime": {
     "end_time": "2020-09-20T17:00:05.681305Z",
     "start_time": "2020-09-20T17:00:05.432713Z"
    }
   },
   "outputs": [],
   "source": [
    "res = create_index_2(es, \"activities\")"
   ]
  },
  {
   "cell_type": "code",
   "execution_count": 79,
   "metadata": {
    "ExecuteTime": {
     "end_time": "2020-09-20T17:00:11.233727Z",
     "start_time": "2020-09-20T17:00:11.228140Z"
    }
   },
   "outputs": [
    {
     "data": {
      "text/plain": [
       "{'acknowledged': True, 'shards_acknowledged': True, 'index': 'activities'}"
      ]
     },
     "execution_count": 79,
     "metadata": {},
     "output_type": "execute_result"
    }
   ],
   "source": [
    "res"
   ]
  },
  {
   "cell_type": "markdown",
   "metadata": {},
   "source": [
    "## Deleting index"
   ]
  },
  {
   "cell_type": "code",
   "execution_count": 92,
   "metadata": {
    "ExecuteTime": {
     "end_time": "2020-09-20T17:06:29.218998Z",
     "start_time": "2020-09-20T17:06:29.212748Z"
    }
   },
   "outputs": [],
   "source": [
    "class NotFoundError(Exception):\n",
    "    pass"
   ]
  },
  {
   "cell_type": "code",
   "execution_count": 96,
   "metadata": {
    "ExecuteTime": {
     "end_time": "2020-09-20T17:07:13.319680Z",
     "start_time": "2020-09-20T17:07:13.312801Z"
    }
   },
   "outputs": [
    {
     "data": {
      "text/plain": [
       "__main__.NotFoundError()"
      ]
     },
     "execution_count": 96,
     "metadata": {},
     "output_type": "execute_result"
    }
   ],
   "source": [
    "NotFoundError()"
   ]
  },
  {
   "cell_type": "code",
   "execution_count": 84,
   "metadata": {
    "ExecuteTime": {
     "end_time": "2020-09-20T17:00:39.864405Z",
     "start_time": "2020-09-20T17:00:39.860373Z"
    }
   },
   "outputs": [],
   "source": [
    "def delete_index_1(index_name):\n",
    "    es_path = \"http://localhost:9200/\"\n",
    "    output = requests.delete(es_path + index_name)\n",
    "    return output.content"
   ]
  },
  {
   "cell_type": "code",
   "execution_count": 119,
   "metadata": {
    "ExecuteTime": {
     "end_time": "2020-09-20T17:11:13.359920Z",
     "start_time": "2020-09-20T17:11:13.354171Z"
    }
   },
   "outputs": [],
   "source": [
    "def delete_index_2(es_instance, index_name):\n",
    "    try:\n",
    "        res = es.indices.delete(index=index_name)\n",
    "    except NotFoundError:\n",
    "        res = 'Index -{}- does not exist'.format(index_name)\n",
    "    return res"
   ]
  },
  {
   "cell_type": "code",
   "execution_count": 98,
   "metadata": {
    "ExecuteTime": {
     "end_time": "2020-09-20T17:07:19.392162Z",
     "start_time": "2020-09-20T17:07:19.377715Z"
    }
   },
   "outputs": [],
   "source": [
    "res = delete_index_1(\"activities\")"
   ]
  },
  {
   "cell_type": "code",
   "execution_count": 120,
   "metadata": {
    "ExecuteTime": {
     "end_time": "2020-09-20T17:11:14.263820Z",
     "start_time": "2020-09-20T17:11:14.256807Z"
    }
   },
   "outputs": [],
   "source": [
    "res = delete_index_2(es, \"activities\")"
   ]
  },
  {
   "cell_type": "code",
   "execution_count": 121,
   "metadata": {
    "ExecuteTime": {
     "end_time": "2020-09-20T17:11:14.600796Z",
     "start_time": "2020-09-20T17:11:14.595431Z"
    }
   },
   "outputs": [
    {
     "data": {
      "text/plain": [
       "'Index -activities- does not exist'"
      ]
     },
     "execution_count": 121,
     "metadata": {},
     "output_type": "execute_result"
    }
   ],
   "source": [
    "res"
   ]
  },
  {
   "cell_type": "markdown",
   "metadata": {},
   "source": [
    "## Adding documents\n",
    "\n",
    "Create a json-like object as a document to inject within the index"
   ]
  },
  {
   "cell_type": "code",
   "execution_count": 8,
   "metadata": {
    "ExecuteTime": {
     "end_time": "2020-09-20T10:23:18.125769Z",
     "start_time": "2020-09-20T10:23:18.121672Z"
    }
   },
   "outputs": [],
   "source": [
    "doc = {\n",
    "    'author': 'kimchy',\n",
    "    'text': 'Elasticsearch: cool. bonsai cool.',\n",
    "    'timestamp': datetime.now(),\n",
    "}"
   ]
  },
  {
   "cell_type": "code",
   "execution_count": 9,
   "metadata": {
    "ExecuteTime": {
     "end_time": "2020-09-20T10:23:18.488370Z",
     "start_time": "2020-09-20T10:23:18.483191Z"
    }
   },
   "outputs": [],
   "source": [
    "def push_doc_es(es_instance, index_name, doc_id, doc):\n",
    "    res = es_instance.index(index=index_name, id=doc_id, body=doc)\n",
    "    return res['result']"
   ]
  },
  {
   "cell_type": "code",
   "execution_count": 10,
   "metadata": {
    "ExecuteTime": {
     "end_time": "2020-09-20T10:23:21.463208Z",
     "start_time": "2020-09-20T10:23:21.450428Z"
    }
   },
   "outputs": [
    {
     "name": "stdout",
     "output_type": "stream",
     "text": [
      "{'_index': 'products', '_type': '_doc', '_id': '1', '_version': 1, '_seq_no': 0, '_primary_term': 1, 'found': True, '_source': {'name': 'Wine - Maipo Valle Cabernet', 'price': 152, 'in_stock': 38, 'sold': 47, 'tags': ['Alcohol', 'Wine'], 'description': 'Aliquam augue quam, sollicitudin vitae, consectetuer eget, rutrum at, lorem. Integer tincidunt ante vel ipsum. Praesent blandit lacinia erat. Vestibulum sed magna at nunc commodo placerat. Praesent blandit. Nam nulla. Integer pede justo, lacinia eget, tincidunt eget, tempus vel, pede. Morbi porttitor lorem id ligula.', 'is_active': True, 'created': '2004/05/13'}}\n",
      "dict_keys(['_index', '_type', '_id', '_version', '_seq_no', '_primary_term', 'found', '_source'])\n",
      "dict_keys(['name', 'price', 'in_stock', 'sold', 'tags', 'description', 'is_active', 'created'])\n"
     ]
    }
   ],
   "source": [
    "res = es.get(index=\"products\", id=1)\n",
    "print(res)\n",
    "# print(res['_source'])\n",
    "print(res.keys())\n",
    "print(res['_source'].keys())"
   ]
  },
  {
   "cell_type": "code",
   "execution_count": 12,
   "metadata": {
    "ExecuteTime": {
     "end_time": "2020-09-20T10:35:43.252517Z",
     "start_time": "2020-09-20T10:35:43.235632Z"
    }
   },
   "outputs": [
    {
     "name": "stdout",
     "output_type": "stream",
     "text": [
      "10\n",
      "Wine - Maipo Valle Cabernet\n",
      "38\n",
      "Tart Shells - Savory\n",
      "10\n",
      "Kirsch - Schloss\n",
      "24\n",
      "Coffee - Colombian Portioned\n",
      "37\n",
      "Venison - Liver\n",
      "24\n",
      "Nestea - Iced Tea\n",
      "23\n",
      "Beets - Pickled\n",
      "25\n",
      "Energy Drink Red Bull\n",
      "25\n",
      "Onions - Green\n",
      "22\n",
      "Ecolab - Hobart Washarm End Cap\n",
      "25\n"
     ]
    }
   ],
   "source": [
    "res = es.search(index=\"products\", body={\"query\": {\"match_all\": {}}})\n",
    "print(len(res['hits']['hits']))\n",
    "for prod in res['hits']['hits']:\n",
    "    print(prod['_source']['name'])\n",
    "    print(prod['_source']['in_stock'])    "
   ]
  },
  {
   "cell_type": "code",
   "execution_count": 13,
   "metadata": {
    "ExecuteTime": {
     "end_time": "2020-09-20T10:36:57.361814Z",
     "start_time": "2020-09-20T10:36:56.959367Z"
    }
   },
   "outputs": [],
   "source": [
    "res = es.update_by_query(index=\"products\", \n",
    "                         body={\"query\": {\"match_all\": {}}, \n",
    "                               \"script\" : {\"source\": \"ctx._source.in_stock--\"}})"
   ]
  },
  {
   "cell_type": "code",
   "execution_count": 22,
   "metadata": {
    "ExecuteTime": {
     "end_time": "2020-09-20T10:51:52.087932Z",
     "start_time": "2020-09-20T10:51:52.075871Z"
    }
   },
   "outputs": [
    {
     "name": "stdout",
     "output_type": "stream",
     "text": [
      "10\n",
      "2\n",
      "Tart Shells - Savory\n",
      "9\n",
      "3\n",
      "Kirsch - Schloss\n",
      "23\n",
      "4\n",
      "Coffee - Colombian Portioned\n",
      "36\n",
      "5\n",
      "Venison - Liver\n",
      "23\n",
      "6\n",
      "Nestea - Iced Tea\n",
      "22\n",
      "7\n",
      "Beets - Pickled\n",
      "24\n",
      "8\n",
      "Energy Drink Red Bull\n",
      "24\n",
      "9\n",
      "Onions - Green\n",
      "21\n",
      "10\n",
      "Ecolab - Hobart Washarm End Cap\n",
      "24\n",
      "11\n",
      "Tuna - Salad Premix\n",
      "3\n"
     ]
    }
   ],
   "source": [
    "res = es.search(index=\"products\", body={\"query\": {\"match_all\": {}}})\n",
    "print(len(res['hits']['hits']))\n",
    "for prod in res['hits']['hits']:\n",
    "    print(prod['_id'])\n",
    "    print(prod['_source']['name'])\n",
    "    print(prod['_source']['in_stock'])"
   ]
  },
  {
   "cell_type": "code",
   "execution_count": 19,
   "metadata": {
    "ExecuteTime": {
     "end_time": "2020-09-20T10:49:56.533526Z",
     "start_time": "2020-09-20T10:49:56.419334Z"
    }
   },
   "outputs": [
    {
     "data": {
      "text/plain": [
       "{'_index': 'products',\n",
       " '_type': '_doc',\n",
       " '_id': '1',\n",
       " '_version': 3,\n",
       " 'result': 'updated',\n",
       " '_shards': {'total': 2, 'successful': 1, 'failed': 0},\n",
       " '_seq_no': 2000,\n",
       " '_primary_term': 1}"
      ]
     },
     "execution_count": 19,
     "metadata": {},
     "output_type": "execute_result"
    }
   ],
   "source": [
    "es.update(index=\"products\", id=1, \n",
    "          body=\n",
    "          {\"doc\":{\n",
    "              \"category\" : [\"food\"]\n",
    "              }\n",
    "          })"
   ]
  },
  {
   "cell_type": "code",
   "execution_count": 24,
   "metadata": {
    "ExecuteTime": {
     "end_time": "2020-09-20T10:52:04.114347Z",
     "start_time": "2020-09-20T10:52:04.108335Z"
    }
   },
   "outputs": [],
   "source": [
    "res = es.get(index=\"products\", id=1)"
   ]
  },
  {
   "cell_type": "code",
   "execution_count": 25,
   "metadata": {
    "ExecuteTime": {
     "end_time": "2020-09-20T10:52:07.555773Z",
     "start_time": "2020-09-20T10:52:07.548126Z"
    }
   },
   "outputs": [
    {
     "data": {
      "text/plain": [
       "{'_index': 'products',\n",
       " '_type': '_doc',\n",
       " '_id': '1',\n",
       " '_version': 3,\n",
       " '_seq_no': 2000,\n",
       " '_primary_term': 1,\n",
       " 'found': True,\n",
       " '_source': {'sold': 47,\n",
       "  'is_active': True,\n",
       "  'price': 152,\n",
       "  'created': '2004/05/13',\n",
       "  'name': 'Wine - Maipo Valle Cabernet',\n",
       "  'description': 'Aliquam augue quam, sollicitudin vitae, consectetuer eget, rutrum at, lorem. Integer tincidunt ante vel ipsum. Praesent blandit lacinia erat. Vestibulum sed magna at nunc commodo placerat. Praesent blandit. Nam nulla. Integer pede justo, lacinia eget, tincidunt eget, tempus vel, pede. Morbi porttitor lorem id ligula.',\n",
       "  'in_stock': 37,\n",
       "  'tags': ['Alcohol', 'Wine'],\n",
       "  'category': ['food']}}"
      ]
     },
     "execution_count": 25,
     "metadata": {},
     "output_type": "execute_result"
    }
   ],
   "source": [
    "res"
   ]
  },
  {
   "cell_type": "markdown",
   "metadata": {},
   "source": [
    "## Get Mapping"
   ]
  },
  {
   "cell_type": "code",
   "execution_count": null,
   "metadata": {},
   "outputs": [],
   "source": [
    "es."
   ]
  }
 ],
 "metadata": {
  "kernelspec": {
   "display_name": "Python 3",
   "language": "python",
   "name": "python3"
  },
  "language_info": {
   "codemirror_mode": {
    "name": "ipython",
    "version": 3
   },
   "file_extension": ".py",
   "mimetype": "text/x-python",
   "name": "python",
   "nbconvert_exporter": "python",
   "pygments_lexer": "ipython3",
   "version": "3.8.3"
  },
  "toc": {
   "base_numbering": 1,
   "nav_menu": {},
   "number_sections": true,
   "sideBar": true,
   "skip_h1_title": false,
   "title_cell": "Table of Contents",
   "title_sidebar": "Contents",
   "toc_cell": false,
   "toc_position": {},
   "toc_section_display": true,
   "toc_window_display": false
  }
 },
 "nbformat": 4,
 "nbformat_minor": 4
}
