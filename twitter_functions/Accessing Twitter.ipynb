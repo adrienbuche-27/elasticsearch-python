{
 "cells": [
  {
   "cell_type": "code",
   "execution_count": 1,
   "metadata": {
    "ExecuteTime": {
     "end_time": "2020-07-03T14:53:56.311596Z",
     "start_time": "2020-07-03T14:53:55.997181Z"
    }
   },
   "outputs": [],
   "source": [
    "import twurl\n",
    "import pandas as pd\n",
    "from urllib.request import urlopen\n",
    "import urllib.error\n",
    "import json\n",
    "import sqlite3\n",
    "import ssl"
   ]
  },
  {
   "cell_type": "code",
   "execution_count": 2,
   "metadata": {
    "ExecuteTime": {
     "end_time": "2020-07-03T14:53:56.817504Z",
     "start_time": "2020-07-03T14:53:56.794931Z"
    }
   },
   "outputs": [],
   "source": [
    "# Ignore SSL certificate errors\n",
    "ctx = ssl.create_default_context()\n",
    "ctx.check_hostname = False\n",
    "ctx.verify_mode = ssl.CERT_NONE"
   ]
  },
  {
   "cell_type": "code",
   "execution_count": 9,
   "metadata": {
    "ExecuteTime": {
     "end_time": "2020-07-03T14:55:59.074623Z",
     "start_time": "2020-07-03T14:55:59.065201Z"
    }
   },
   "outputs": [],
   "source": [
    "# TWITTER_URL = 'https://api.twitter.com/1.1/friends/list.json'\n",
    "TWITTER_URL = 'https://api.twitter.com/1.1/statuses/user_timeline.json'"
   ]
  },
  {
   "cell_type": "code",
   "execution_count": null,
   "metadata": {},
   "outputs": [],
   "source": [
    "list_of_interest = []"
   ]
  },
  {
   "cell_type": "code",
   "execution_count": 22,
   "metadata": {
    "ExecuteTime": {
     "end_time": "2020-07-03T15:07:32.211929Z",
     "start_time": "2020-07-03T15:07:31.693905Z"
    }
   },
   "outputs": [],
   "source": [
    "url = twurl.augment(TWITTER_URL, {'screen_name': \"F1\", 'count': '50'})\n",
    "connection = urlopen(url, context=ctx)\n",
    "data = connection.read().decode()\n",
    "headers = dict(connection.getheaders())\n"
   ]
  },
  {
   "cell_type": "code",
   "execution_count": 23,
   "metadata": {
    "ExecuteTime": {
     "end_time": "2020-07-03T15:07:33.069928Z",
     "start_time": "2020-07-03T15:07:33.057771Z"
    }
   },
   "outputs": [
    {
     "name": "stdout",
     "output_type": "stream",
     "text": [
      "Remaining 897\n"
     ]
    }
   ],
   "source": [
    "print('Remaining', headers['x-rate-limit-remaining'])\n",
    "js = json.loads(data)"
   ]
  },
  {
   "cell_type": "code",
   "execution_count": 27,
   "metadata": {
    "ExecuteTime": {
     "end_time": "2020-07-03T15:08:39.363437Z",
     "start_time": "2020-07-03T15:08:39.358776Z"
    }
   },
   "outputs": [],
   "source": [
    "# for j in js:\n",
    "#     print(j['created_at'], j['text'], j['entities']['hashtags'])\n",
    "#     print('-------')"
   ]
  },
  {
   "cell_type": "code",
   "execution_count": 26,
   "metadata": {
    "ExecuteTime": {
     "end_time": "2020-07-03T15:08:38.245183Z",
     "start_time": "2020-07-03T15:08:38.239131Z"
    }
   },
   "outputs": [],
   "source": [
    "# js[0]"
   ]
  },
  {
   "cell_type": "code",
   "execution_count": null,
   "metadata": {},
   "outputs": [],
   "source": []
  }
 ],
 "metadata": {
  "kernelspec": {
   "display_name": "Python 3",
   "language": "python",
   "name": "python3"
  },
  "language_info": {
   "codemirror_mode": {
    "name": "ipython",
    "version": 3
   },
   "file_extension": ".py",
   "mimetype": "text/x-python",
   "name": "python",
   "nbconvert_exporter": "python",
   "pygments_lexer": "ipython3",
   "version": "3.8.3"
  },
  "toc": {
   "base_numbering": 1,
   "nav_menu": {},
   "number_sections": true,
   "sideBar": true,
   "skip_h1_title": false,
   "title_cell": "Table of Contents",
   "title_sidebar": "Contents",
   "toc_cell": false,
   "toc_position": {},
   "toc_section_display": true,
   "toc_window_display": false
  }
 },
 "nbformat": 4,
 "nbformat_minor": 4
}
