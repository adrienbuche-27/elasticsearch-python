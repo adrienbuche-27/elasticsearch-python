{
 "cells": [
  {
   "cell_type": "code",
   "execution_count": 19,
   "metadata": {
    "ExecuteTime": {
     "end_time": "2020-07-06T16:17:56.501587Z",
     "start_time": "2020-07-06T16:17:56.497466Z"
    }
   },
   "outputs": [],
   "source": [
    "import twurl\n",
    "import pandas as pd\n",
    "from urllib.request import urlopen\n",
    "import urllib.error\n",
    "import json\n",
    "import sqlite3\n",
    "import ssl\n",
    "import requests\n",
    "from datetime import datetime"
   ]
  },
  {
   "cell_type": "code",
   "execution_count": 2,
   "metadata": {
    "ExecuteTime": {
     "end_time": "2020-07-06T16:14:31.098394Z",
     "start_time": "2020-07-06T16:14:31.083415Z"
    }
   },
   "outputs": [],
   "source": [
    "# Ignore SSL certificate errors\n",
    "ctx = ssl.create_default_context()\n",
    "ctx.check_hostname = False\n",
    "ctx.verify_mode = ssl.CERT_NONE"
   ]
  },
  {
   "cell_type": "markdown",
   "metadata": {},
   "source": [
    "# Friends or Statuses"
   ]
  },
  {
   "cell_type": "code",
   "execution_count": 36,
   "metadata": {
    "ExecuteTime": {
     "end_time": "2020-07-06T16:20:45.580499Z",
     "start_time": "2020-07-06T16:20:45.128081Z"
    }
   },
   "outputs": [
    {
     "name": "stdout",
     "output_type": "stream",
     "text": [
      "https://api.twitter.com/1.1/statuses/user_timeline.json?oauth_consumer_key=ukNB0EYmhfuzkaePnoidMGmH1&oauth_timestamp=1594052445&oauth_nonce=45203826&oauth_version=1.0&screen_name=F1&count=50&oauth_token=948662893557448711-btm7oUussbqkU6toTWsJwE9z84NLKpi&oauth_signature_method=HMAC-SHA1&oauth_signature=JCUf2y94jOGOI1gGOX7FEB%2F4tNE%3D\n"
     ]
    }
   ],
   "source": [
    "# TWITTER_URL = 'https://api.twitter.com/1.1/friends/list.json'\n",
    "TWITTER_URL = 'https://api.twitter.com/1.1/statuses/user_timeline.json'\n",
    "\n",
    "url = twurl.augment(TWITTER_URL, {'screen_name': \"F1\", 'count': '50'})\n",
    "\n",
    "print(url)\n",
    "connection = urlopen(url, context=ctx)\n",
    "data = connection.read().decode()\n",
    "headers = dict(connection.getheaders())\n"
   ]
  },
  {
   "cell_type": "code",
   "execution_count": 37,
   "metadata": {
    "ExecuteTime": {
     "end_time": "2020-07-06T16:20:51.142826Z",
     "start_time": "2020-07-06T16:20:51.134607Z"
    }
   },
   "outputs": [
    {
     "name": "stdout",
     "output_type": "stream",
     "text": [
      "Remaining 899\n"
     ]
    }
   ],
   "source": [
    "print('Remaining', headers['x-rate-limit-remaining'])\n",
    "print('Reset', datetime.fromtimestamp(int(headers['x-rate-limit-reset'])).isoformat())\n",
    "js = json.loads(data)"
   ]
  },
  {
   "cell_type": "markdown",
   "metadata": {},
   "source": [
    "# Search Query"
   ]
  },
  {
   "cell_type": "code",
   "execution_count": 39,
   "metadata": {
    "ExecuteTime": {
     "end_time": "2020-07-06T16:22:33.159412Z",
     "start_time": "2020-07-06T16:22:32.439560Z"
    }
   },
   "outputs": [
    {
     "name": "stdout",
     "output_type": "stream",
     "text": [
      "Remaining 446\n",
      "Reset 2020-07-06T18:26:00\n"
     ]
    }
   ],
   "source": [
    "params = {'q':'%23formula1', 'count': 50}\n",
    "TWITTER_URL = 'https://api.twitter.com/1.1/search/tweets.json'\n",
    "data = twurl.augment_search(TWITTER_URL, params)\n",
    "headers = dict(data.headers)\n",
    "\n",
    "print('Remaining', headers['x-rate-limit-remaining'])\n",
    "print('Reset', datetime.fromtimestamp(int(headers['x-rate-limit-reset'])).isoformat())"
   ]
  },
  {
   "cell_type": "code",
   "execution_count": 43,
   "metadata": {
    "ExecuteTime": {
     "end_time": "2020-07-06T16:23:07.646250Z",
     "start_time": "2020-07-06T16:23:07.638847Z"
    }
   },
   "outputs": [],
   "source": [
    "js = data.json()"
   ]
  },
  {
   "cell_type": "code",
   "execution_count": null,
   "metadata": {},
   "outputs": [],
   "source": []
  }
 ],
 "metadata": {
  "kernelspec": {
   "display_name": "Python 3",
   "language": "python",
   "name": "python3"
  },
  "language_info": {
   "codemirror_mode": {
    "name": "ipython",
    "version": 3
   },
   "file_extension": ".py",
   "mimetype": "text/x-python",
   "name": "python",
   "nbconvert_exporter": "python",
   "pygments_lexer": "ipython3",
   "version": "3.8.3"
  },
  "toc": {
   "base_numbering": 1,
   "nav_menu": {},
   "number_sections": true,
   "sideBar": true,
   "skip_h1_title": false,
   "title_cell": "Table of Contents",
   "title_sidebar": "Contents",
   "toc_cell": false,
   "toc_position": {},
   "toc_section_display": true,
   "toc_window_display": false
  }
 },
 "nbformat": 4,
 "nbformat_minor": 4
}
